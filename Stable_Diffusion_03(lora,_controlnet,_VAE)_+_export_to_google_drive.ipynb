{
  "cells": [
    {
      "cell_type": "markdown",
      "metadata": {
        "id": "view-in-github",
        "colab_type": "text"
      },
      "source": [
        "<a href=\"https://colab.research.google.com/github/AiDarkEzio/Project-Jupyter-NoteBooks/blob/main/Stable_Diffusion_03(lora%2C_controlnet%2C_VAE)_%2B_export_to_google_drive.ipynb\" target=\"_parent\"><img src=\"https://colab.research.google.com/assets/colab-badge.svg\" alt=\"Open In Colab\"/></a>"
      ]
    },
    {
      "cell_type": "markdown",
      "metadata": {
        "id": "4X6nqvYZ7xBs"
      },
      "source": [
        "# **StableDiffusion GoogleColab version by @marat_ai**\n",
        "\n",
        "\n",
        "_You don't need additional Google Drive storage because uploaded models are not stored on your Google Drive. After the session ends, all data will be deleted. You can either download ControlNet models on your own or let me know if you want me to make it for you._"
      ]
    },
    {
      "cell_type": "code",
      "execution_count": null,
      "metadata": {
        "cellView": "form",
        "id": "ciseg_wdLz3S"
      },
      "outputs": [],
      "source": [
        "#@markdown # **STEP 1**\n",
        "#@markdown ## Requirements\n",
        "from IPython.display import clear_output\n",
        "\n",
        "print('\u001b[1;32mInstalling requirements...')\n",
        "#%pip install --quiet blendmodes accelerate basicsr fonts font-roboto gfpgan gradio invisible-watermark numpy omegaconf opencv-contrib-python requests piexif Pillow pytorch-lightning==1.7.7 realesrgan scikit-image==0.19 timm==0.4.12 transformers==4.25.1 torch einops jsonmerge clean-fid resize-right torchdiffeq kornia lark inflection GitPython torchsde safetensors psutil rich\n",
        "#%cd /content/\n",
        "!git clone -q --branch main https://github.com/AlexSgt/lite_colab\n",
        "%cd /content/lite_colab\n",
        "%pip install -r requirements.txt --quiet\n",
        "!sed -i \"s@os.path.splitext(checkpoint_file)@os.path.splitext(checkpoint_file); map_location='cuda'@\" /content/lite_colab/modules/sd_models.py\n",
        "!sed -i 's@ui.create_ui().*@ui.create_ui();shared.demo.queue(concurrency_count=999999,status_update_rate=0.1)@' /content/lite_colab/startfk.py\n",
        "!sed -i \"s@map_location='cpu'@map_location='cuda'@\" /content/lite_colab/modules/extras.py\n",
        "!cp /content/lite_colab/assets/blocks.py /usr/local/lib/python3.10/dist-packages/gradio/blocks.py\n",
        "\n",
        "clear_output()\n",
        "print('\u001b[1;32mDone!')\n",
        "#!python launch.py --share --theme dark --api --ckpt-dir /content/models/ --disable-safe-unpickle --enable-insecure-extension-access --opt-sdp-attention --disable-console-progressbars --no-download-sd-model"
      ]
    },
    {
      "cell_type": "code",
      "execution_count": null,
      "metadata": {
        "cellView": "form",
        "id": "QnLCXo9BTYOa"
      },
      "outputs": [],
      "source": [
        "#@markdown # **STEP 2**\n",
        "#@markdown ## Choose your model\n",
        "#@markdown _Paste link from huggingface.co or leave the default model_\n",
        "\n",
        "MODEL_LINK = \"https://huggingface.co/SG161222/Realistic_Vision_V5.1_noVAE/resolve/main/Realistic_Vision_V5.1.safetensors\" #@param {type:\"string\"}\n",
        "safetensors = True #@param {type:\"boolean\"}\n",
        "\n",
        "if MODEL_LINK != \"\":\n",
        "  pth = '/content/lite_colab/models/Stable-diffusion/'\n",
        "  if not safetensors:\n",
        "    modelname=\"model.ckpt\"\n",
        "  else:\n",
        "    modelname=\"model.safetensors\"\n",
        "  dwnld = pth + modelname\n",
        "  print('\u001b[1;32mDownload model...')\n",
        "  !gdown --fuzzy -O $dwnld \"$MODEL_LINK\"\n",
        "  clear_output()\n",
        "  print('\u001b[1;32mDone!')\n",
        "else:\n",
        "  print('\u001b[1;31mPaste model link and try again!')\n",
        "\n"
      ]
    },
    {
      "cell_type": "code",
      "execution_count": null,
      "metadata": {
        "collapsed": true,
        "id": "hbtn5DljpN-S",
        "outputId": "7df97f9c-a80a-4c95-e36a-e9c3e069ea04",
        "colab": {
          "base_uri": "https://localhost:8080/"
        },
        "cellView": "form"
      },
      "outputs": [
        {
          "output_type": "stream",
          "name": "stdout",
          "text": [
            "Downloading model from https://civitai.com/api/download/models/112406...\n",
            "Download complete!\n"
          ]
        }
      ],
      "source": [
        "#@markdown # **STEP 2.1** (optional)\n",
        "#@markdown ## Choose Lora model\n",
        "\n",
        "\n",
        "\n",
        "\n",
        "\n",
        "import os\n",
        "import urllib.parse\n",
        "import requests\n",
        "\n",
        "Lora_model_link1 = \"https://civitai.com/api/download/models/112406\" #@param {type:\"string\"}\n",
        "Lora_model_link2 = '' #@param {type:\"string\"}\n",
        "Lora_model_link3 = '' #@param {type:\"string\"}\n",
        "Lora_model_link4 = '' #@param {type:\"string\"}\n",
        "Lora_model_link5 = '' #@param {type:\"string\"}\n",
        "\n",
        "links = [\n",
        "   Lora_model_link1,\n",
        "   Lora_model_link2,\n",
        "   Lora_model_link3,\n",
        "   Lora_model_link4,\n",
        "   Lora_model_link5\n",
        "]\n",
        "\n",
        "pth = '/content/lite_colab/models/Lora/'\n",
        "\n",
        "os.makedirs(pth, exist_ok=True)\n",
        "\n",
        "for link in links:\n",
        "    if not link:\n",
        "        continue  # Skip empty links\n",
        "    parsed_url = urllib.parse.urlparse(link)\n",
        "    if not parsed_url.scheme or not parsed_url.netloc:\n",
        "        print(f'Error: Invalid URL - {link}')\n",
        "        continue  # Skip invalid URLs\n",
        "    filename = os.path.join(pth, os.path.basename(parsed_url.path))  # Extract the filename from the URL\n",
        "    filename_with_extension = f\"{filename}.safetensors\"  # Append .safetensors extension to the filename\n",
        "    print(f'Downloading model from {link}...')\n",
        "    try:\n",
        "        response = requests.get(link, stream=True)\n",
        "        response.raise_for_status()  # Raise an exception for non-2xx status codes\n",
        "        # Check if the response headers indicate a valid file\n",
        "        content_length = response.headers.get('content-length')\n",
        "        if not content_length or int(content_length) == 0:\n",
        "            print(f'Error downloading model. File not found or empty: {link}')\n",
        "            continue  # Skip further processing\n",
        "        with open(filename_with_extension, 'wb') as file:\n",
        "            for chunk in response.iter_content(chunk_size=8192):\n",
        "                file.write(chunk)\n",
        "        if os.path.exists(filename_with_extension) and os.path.getsize(filename_with_extension) > 0:\n",
        "            print('Download complete!')\n",
        "        else:\n",
        "            if os.path.exists(filename_with_extension):\n",
        "                os.remove(filename_with_extension)\n",
        "            print(f'Error downloading model. File not found or empty: {link}')\n",
        "    except requests.exceptions.RequestException as e:\n",
        "        print(f'Error downloading model: {str(e)}')"
      ]
    },
    {
      "cell_type": "code",
      "execution_count": null,
      "metadata": {
        "cellView": "form",
        "id": "lGY40kWopTat"
      },
      "outputs": [],
      "source": [
        "#@markdown # **STEP 2.2** ControlNet (optional)\n",
        "#@markdown ## Run this cell if you need controlnet models.\n",
        "#@markdown List of used models: https://huggingface.co/lllyasviel/ControlNet-v1-1/tree/main\n",
        "import os\n",
        "import requests\n",
        "from tqdm import tqdm\n",
        "\n",
        "def download_files(urls, directory):\n",
        "    for url in urls:\n",
        "        filename = os.path.basename(url)\n",
        "        file_path = os.path.join(directory, filename)\n",
        "\n",
        "        response = requests.get(url, stream=True)\n",
        "        response.raise_for_status()\n",
        "\n",
        "        total_size = int(response.headers.get('Content-Length', 0))\n",
        "        block_size = 8192  # Adjust the block size as per your preference\n",
        "\n",
        "        progress_bar = tqdm(total=total_size, unit='B', unit_scale=True, desc=filename)\n",
        "\n",
        "        with open(file_path, 'wb') as file:\n",
        "            for data in response.iter_content(block_size):\n",
        "                progress_bar.update(len(data))\n",
        "                file.write(data)\n",
        "\n",
        "        progress_bar.close()\n",
        "        print(f\"File downloaded successfully: {file_path}\")\n",
        "\n",
        "# Usage\n",
        "links = [\n",
        "    \"https://huggingface.co/lllyasviel/ControlNet-v1-1/resolve/main/control_v11p_sd15_canny.pth\",\n",
        "    \"https://huggingface.co/lllyasviel/ControlNet-v1-1/resolve/main/control_v11f1p_sd15_depth.pth\",\n",
        "    \"https://huggingface.co/lllyasviel/ControlNet-v1-1/resolve/main/control_v11p_sd15_lineart.pth\",\n",
        "    \"https://huggingface.co/lllyasviel/ControlNet-v1-1/resolve/main/control_v11p_sd15_mlsd.pth\",\n",
        "    \"https://huggingface.co/lllyasviel/ControlNet-v1-1/resolve/main/control_v11p_sd15_normalbae.pth\",\n",
        "    \"https://huggingface.co/lllyasviel/ControlNet-v1-1/resolve/main/control_v11p_sd15_openpose.pth\",\n",
        "    \"https://huggingface.co/lllyasviel/ControlNet-v1-1/resolve/main/control_v11p_sd15_scribble.pth\",\n",
        "    \"https://huggingface.co/lllyasviel/ControlNet-v1-1/resolve/main/control_v11p_sd15_seg.pth\",\n",
        "    \"https://huggingface.co/lllyasviel/ControlNet-v1-1/resolve/main/control_v11e_sd15_ip2p.pth\",\n",
        "    \"https://huggingface.co/lllyasviel/ControlNet-v1-1/resolve/main/control_v11e_sd15_shuffle.pth\",\n",
        "    \"https://huggingface.co/lllyasviel/ControlNet-v1-1/resolve/main/control_v11p_sd15_canny.pth\",\n",
        "    \"https://huggingface.co/lllyasviel/ControlNet-v1-1/resolve/main/control_v11f1p_sd15_depth.pth\",\n",
        "    \"https://huggingface.co/lllyasviel/ControlNet-v1-1/resolve/main/control_v11p_sd15_lineart.pth\",\n",
        "    \"https://huggingface.co/lllyasviel/ControlNet-v1-1/resolve/main/control_v11p_sd15_mlsd.pth\",\n",
        "    \"https://huggingface.co/lllyasviel/ControlNet-v1-1/resolve/main/control_v11p_sd15_normalbae.pth\",\n",
        "    \"https://huggingface.co/lllyasviel/ControlNet-v1-1/resolve/main/control_v11p_sd15_openpose.pth\",\n",
        "    \"https://huggingface.co/lllyasviel/ControlNet-v1-1/resolve/main/control_v11p_sd15_scribble.pth\",\n",
        "    \"https://huggingface.co/lllyasviel/ControlNet-v1-1/resolve/main/control_v11p_sd15_seg.pth\",\n",
        "    \"https://huggingface.co/lllyasviel/ControlNet-v1-1/resolve/main/control_v11e_sd15_ip2p.pth\",\n",
        "    \"https://huggingface.co/lllyasviel/ControlNet-v1-1/resolve/main/control_v11e_sd15_shuffle.pth\",\n",
        "    \"https://huggingface.co/lllyasviel/ControlNet-v1-1/resolve/main/control_v11p_sd15_inpaint.pth\",\n",
        "    \"https://huggingface.co/lllyasviel/ControlNet-v1-1/resolve/main/control_v11p_sd15_softedge.pth\",\n",
        "    \"https://huggingface.co/lllyasviel/ControlNet-v1-1/resolve/main/control_v11p_sd15s2_lineart_anime.pth\",\n",
        "    \"https://huggingface.co/lllyasviel/ControlNet-v1-1/resolve/main/control_v11f1e_sd15_tile.pth\",\n",
        "    \"https://huggingface.co/webui/ControlNet-modules-safetensors/resolve/main/t2iadapter_keypose-fp16.safetensors\",\n",
        "    \"https://huggingface.co/webui/ControlNet-modules-safetensors/resolve/main/t2iadapter_seg-fp16.safetensors\",\n",
        "    \"https://huggingface.co/webui/ControlNet-modules-safetensors/resolve/main/t2iadapter_sketch-fp16.safetensors\",\n",
        "    \"https://huggingface.co/webui/ControlNet-modules-safetensors/resolve/main/t2iadapter_depth-fp16.safetensors\",\n",
        "    \"https://huggingface.co/webui/ControlNet-modules-safetensors/resolve/main/t2iadapter_canny-fp16.safetensors\",\n",
        "    \"https://huggingface.co/webui/ControlNet-modules-safetensors/resolve/main/t2iadapter_color-fp16.safetensors\",\n",
        "    \"https://huggingface.co/webui/ControlNet-modules-safetensors/resolve/main/t2iadapter_style-fp16.safetensors\",\n",
        "    'https://huggingface.co/webui/ControlNet-modules-safetensors/resolve/main/t2iadapter_openpose-fp16.safetensors'\n",
        "]\n",
        " # Replace with your list of file URLs\n",
        "\n",
        "directory = \"/content/lite_colab/extensions/lite-kaggle-controlnet/models\"  # Replace with your desired directory\n",
        "\n",
        "download_files(links, directory)\n",
        "\n"
      ]
    },
    {
      "cell_type": "code",
      "execution_count": null,
      "metadata": {
        "cellView": "form",
        "id": "HAFOrFrYyZaY"
      },
      "outputs": [],
      "source": [
        "#@markdown # **STEP 3**\n",
        "#@markdown ## Run StableDiffusion\n",
        "\n",
        "!python launch.py --share --api --disable-safe-unpickle --enable-insecure-extension-access --opt-sdp-attention --disable-console-progressbars --no-download-sd-model"
      ]
    },
    {
      "cell_type": "code",
      "source": [
        "#@markdown # Save \"Outputs\" to GDrive\n",
        "\n",
        "from google.colab import drive\n",
        "drive.mount('/content/gdrive')\n",
        "\n",
        "!mkdir -p /content/gdrive/MyDrive/lite_colab/outputs\n",
        "!cp -r /content/lite_colab/outputs /content/gdrive/MyDrive/lite_colab\n",
        "\n",
        "clear_output()\n",
        "print('\u001b[1;32mDone!')"
      ],
      "metadata": {
        "id": "ah36GSTX9RiL",
        "cellView": "form"
      },
      "execution_count": null,
      "outputs": []
    },
    {
      "cell_type": "markdown",
      "metadata": {
        "id": "2g9c90Rs12kb"
      },
      "source": [
        "<form action=\"https://www.paypal.com/cgi-bin/webscr\" method=\"post\" target=\"_top\">\n",
        "  <input type=\"hidden\" name=\"cmd\" value=\"_s-xclick\" />\n",
        "  <input type=\"hidden\" name=\"hosted_button_id\" value=\"MDH8APKUVYW4L\" />\n",
        "  <table>\n",
        "    <tr>\n",
        "      <td>\n",
        "        <input type=\"hidden\" name=\"on0\" value=\"Thank you for donation!:)\"/>\n",
        "        Thank you for donation!:)\n",
        "      </td>\n",
        "    </tr>\n",
        "    <tr>\n",
        "      <td>\n",
        "        <input type=\"text\" name=\"os0\" maxLength=\"200\" />\n",
        "      </td>\n",
        "    </tr>\n",
        "  </table>\n",
        "  <input type=\"hidden\" name=\"currency_code\" value=\"USD\" />\n",
        "  <input type=\"image\" src=\"https://www.paypalobjects.com/en_US/i/btn/btn_paynowCC_LG.gif\" border=\"0\" name=\"submit\" title=\"PayPal - The safer, easier way to pay online!\" alt=\"Buy Now\" />\n",
        "</form>"
      ]
    }
  ],
  "metadata": {
    "accelerator": "GPU",
    "colab": {
      "provenance": [],
      "include_colab_link": true
    },
    "kernelspec": {
      "display_name": "Python 3",
      "name": "python3"
    },
    "language_info": {
      "name": "python"
    }
  },
  "nbformat": 4,
  "nbformat_minor": 0
}